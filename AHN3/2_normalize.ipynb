{
 "cells": [
  {
   "cell_type": "code",
   "execution_count": 1,
   "metadata": {},
   "outputs": [],
   "source": [
    "import copy\n",
    "import fnmatch\n",
    "import json\n",
    "import getpass\n",
    "import os\n",
    "import pathlib\n",
    "import datetime\n",
    "                    \n",
    "from dask.distributed import LocalCluster, SSHCluster \n",
    "from laserfarm import Retiler, DataProcessing, GeotiffWriter, MacroPipeline\n",
    "from laserfarm.remote_utils import get_wdclient, get_info_remote, list_remote\n",
    "\n",
    "def last_modified(opts, remote_path):\n",
    "    info = get_info_remote(get_wdclient(opts), remote_path.as_posix())\n",
    "    format_ = '%a, %d %b %Y %H:%M:%S GMT'\n",
    "    return datetime.datetime.strptime(info['modified'], format_)"
   ]
  },
  {
   "cell_type": "markdown",
   "metadata": {},
   "source": [
    "# Macro-Pipeline AHN3 Workflow - Normalization"
   ]
  },
  {
   "cell_type": "markdown",
   "metadata": {},
   "source": [
    "## Set Run-Specific Input\n",
    "\n",
    "Fill in the username/password for the SURF dCache. Choose whether you want to i) run all input files, ii) run the only input files listed in `filename`, or iii) run the input that was updated since the last workflow run."
   ]
  },
  {
   "cell_type": "code",
   "execution_count": 2,
   "metadata": {},
   "outputs": [],
   "source": [
    "remote_path_root = pathlib.Path('/pnfs/grid.sara.nl/data/projects.nl/eecolidar/01_Escience/')\n",
    "\n",
    "# dCache path to retiled data \n",
    "remote_path_input = remote_path_root / 'ALS/Netherlands/ahn3_current/ahn3_current_TOP10NL_ud20200323_retiled'\n",
    "\n",
    "# dCache path where to copy the normalized point-cloud data\n",
    "remote_path_output = remote_path_input.with_name(remote_path_input.name.replace('retiled', 'normalized'))\n",
    "\n",
    "run = 'from_file' # 'all', 'updated', 'from_file'\n",
    "filename = 'normalize_failed.json'  # if run is 'from_file', set name of file with input file names\n",
    "assert run in ['all', 'updated', 'from_file']"
   ]
  },
  {
   "cell_type": "code",
   "execution_count": 3,
   "metadata": {},
   "outputs": [
    {
     "name": "stdin",
     "output_type": "stream",
     "text": [
      "WebDAV username:  fnattin4\n",
      "WebDAV password:  ············\n"
     ]
    }
   ],
   "source": [
    "webdav_login = input('WebDAV username: ')\n",
    "webdav_password = getpass.getpass('WebDAV password: ')\n",
    "if run == 'updated':\n",
    "    last_run = datetime.datetime.strptime(input('Date last run (YYYY-MM-DD): '), '%Y-%m-%d')"
   ]
  },
  {
   "cell_type": "markdown",
   "metadata": {},
   "source": [
    "## Check Connection to Remote Storage"
   ]
  },
  {
   "cell_type": "code",
   "execution_count": 4,
   "metadata": {},
   "outputs": [],
   "source": [
    "wd_opts = {\n",
    "    'webdav_hostname': 'https://webdav.grid.surfsara.nl:2880',\n",
    "    'webdav_login': webdav_login,\n",
    "    'webdav_password': webdav_password,\n",
    "    'webdav_timeout': 200\n",
    "}\n",
    "assert get_wdclient(wd_opts).check(remote_path_root.as_posix())"
   ]
  },
  {
   "cell_type": "code",
   "execution_count": 5,
   "metadata": {},
   "outputs": [
    {
     "name": "stdout",
     "output_type": "stream",
     "text": [
      "Found: 37457 tiles\n",
      "Retrieve and retile: 131 tiles\n"
     ]
    }
   ],
   "source": [
    "tiles = [t.strip('/') for t in list_remote(get_wdclient(wd_opts), remote_path_input.as_posix())\n",
    "         if fnmatch.fnmatch(t, 'tile_*_*/')]\n",
    "print('Found: {} tiles'.format(len(tiles)))\n",
    "if run == 'updated':\n",
    "    # determine which tiles have been updated since last run\n",
    "    tiles = [t for t in tiles if last_modified(wd_opts, remote_path_input/t) > last_run]\n",
    "elif run == 'from_file':\n",
    "    with open(filename, 'r') as f:\n",
    "        tiles_read = json.load(f)\n",
    "    # check whether all files are available on dCache\n",
    "    assert all([t in tiles for t in tiles_read]), f'Some of the files in {filename} are not in remote dir'\n",
    "    tiles = tiles_read\n",
    "print('Retrieve and retile: {} tiles'.format(len(tiles)))"
   ]
  },
  {
   "cell_type": "markdown",
   "metadata": {},
   "source": [
    "## Setup Cluster\n",
    "\n",
    "Setup Dask cluster used for all the macro-pipeline calculations."
   ]
  },
  {
   "cell_type": "code",
   "execution_count": 6,
   "metadata": {},
   "outputs": [
    {
     "name": "stderr",
     "output_type": "stream",
     "text": [
      "distributed.deploy.ssh - INFO - distributed.scheduler - INFO - -----------------------------------------------\n",
      "distributed.deploy.ssh - INFO - /usr/local/lib/python3.7/site-packages/pandas/compat/__init__.py:117: UserWarning: Could not import the lzma module. Your installed Python is incomplete. Attempting to use lzma compression will result in a RuntimeError.\n",
      "distributed.deploy.ssh - INFO - warnings.warn(msg)\n",
      "distributed.deploy.ssh - INFO - distributed.scheduler - INFO - -----------------------------------------------\n",
      "distributed.deploy.ssh - INFO - distributed.scheduler - INFO - Clear task state\n",
      "distributed.deploy.ssh - INFO - distributed.scheduler - INFO -   Scheduler at: tcp://145.100.59.123:8786\n",
      "distributed.deploy.ssh - INFO - distributed.nanny - INFO -         Start Nanny at: 'tcp://145.100.59.59:42417'\n",
      "distributed.deploy.ssh - INFO - distributed.nanny - INFO -         Start Nanny at: 'tcp://145.100.59.59:35003'\n",
      "distributed.deploy.ssh - INFO - distributed.nanny - INFO -         Start Nanny at: 'tcp://145.100.59.115:33765'\n",
      "distributed.deploy.ssh - INFO - distributed.nanny - INFO -         Start Nanny at: 'tcp://145.100.59.115:45689'\n",
      "distributed.deploy.ssh - INFO - distributed.nanny - INFO -         Start Nanny at: 'tcp://145.100.59.123:44181'\n",
      "distributed.deploy.ssh - INFO - distributed.nanny - INFO -         Start Nanny at: 'tcp://145.100.59.123:42833'\n",
      "distributed.deploy.ssh - INFO - distributed.nanny - INFO -         Start Nanny at: 'tcp://145.100.59.118:33779'\n",
      "distributed.deploy.ssh - INFO - distributed.nanny - INFO -         Start Nanny at: 'tcp://145.100.59.118:33433'\n",
      "distributed.deploy.ssh - INFO - distributed.nanny - INFO -         Start Nanny at: 'tcp://145.100.59.182:41647'\n",
      "distributed.deploy.ssh - INFO - distributed.nanny - INFO -         Start Nanny at: 'tcp://145.100.59.182:34691'\n",
      "distributed.deploy.ssh - INFO - distributed.nanny - INFO -         Start Nanny at: 'tcp://145.100.59.84:45889'\n",
      "distributed.deploy.ssh - INFO - distributed.nanny - INFO -         Start Nanny at: 'tcp://145.100.59.84:35527'\n",
      "distributed.deploy.ssh - INFO - distributed.nanny - INFO -         Start Nanny at: 'tcp://145.100.59.27:43883'\n",
      "distributed.deploy.ssh - INFO - distributed.nanny - INFO -         Start Nanny at: 'tcp://145.100.59.27:35071'\n",
      "distributed.deploy.ssh - INFO - distributed.nanny - INFO -         Start Nanny at: 'tcp://145.100.59.197:41051'\n",
      "distributed.deploy.ssh - INFO - distributed.nanny - INFO -         Start Nanny at: 'tcp://145.100.59.187:44069'\n",
      "distributed.deploy.ssh - INFO - distributed.nanny - INFO -         Start Nanny at: 'tcp://145.100.59.187:36739'\n",
      "distributed.deploy.ssh - INFO - distributed.nanny - INFO -         Start Nanny at: 'tcp://145.100.59.197:42397'\n",
      "distributed.deploy.ssh - INFO - distributed.nanny - INFO -         Start Nanny at: 'tcp://145.100.59.48:40419'\n",
      "distributed.deploy.ssh - INFO - distributed.nanny - INFO -         Start Nanny at: 'tcp://145.100.59.48:41599'\n",
      "distributed.deploy.ssh - INFO - /usr/local/lib/python3.7/site-packages/pandas/compat/__init__.py:117: UserWarning: Could not import the lzma module. Your installed Python is incomplete. Attempting to use lzma compression will result in a RuntimeError.\n",
      "distributed.deploy.ssh - INFO - warnings.warn(msg)\n",
      "distributed.deploy.ssh - INFO - distributed.worker - INFO -       Start worker at:  tcp://145.100.59.59:43153\n",
      "distributed.deploy.ssh - INFO - /usr/local/lib/python3.7/site-packages/pandas/compat/__init__.py:117: UserWarning: Could not import the lzma module. Your installed Python is incomplete. Attempting to use lzma compression will result in a RuntimeError.\n",
      "distributed.deploy.ssh - INFO - warnings.warn(msg)\n",
      "distributed.deploy.ssh - INFO - distributed.worker - INFO -       Start worker at: tcp://145.100.59.115:34687\n",
      "distributed.deploy.ssh - INFO - /usr/local/lib/python3.7/site-packages/pandas/compat/__init__.py:117: UserWarning: Could not import the lzma module. Your installed Python is incomplete. Attempting to use lzma compression will result in a RuntimeError.\n",
      "distributed.deploy.ssh - INFO - warnings.warn(msg)\n",
      "distributed.deploy.ssh - INFO - distributed.worker - INFO -       Start worker at: tcp://145.100.59.182:37791\n",
      "distributed.deploy.ssh - INFO - /usr/local/lib/python3.7/site-packages/pandas/compat/__init__.py:117: UserWarning: Could not import the lzma module. Your installed Python is incomplete. Attempting to use lzma compression will result in a RuntimeError.\n",
      "distributed.deploy.ssh - INFO - warnings.warn(msg)\n",
      "distributed.deploy.ssh - INFO - distributed.worker - INFO -       Start worker at:  tcp://145.100.59.84:44983\n",
      "distributed.deploy.ssh - INFO - /usr/local/lib/python3.7/site-packages/pandas/compat/__init__.py:117: UserWarning: Could not import the lzma module. Your installed Python is incomplete. Attempting to use lzma compression will result in a RuntimeError.\n",
      "distributed.deploy.ssh - INFO - warnings.warn(msg)\n",
      "distributed.deploy.ssh - INFO - distributed.worker - INFO -       Start worker at: tcp://145.100.59.118:46453\n",
      "distributed.deploy.ssh - INFO - /usr/local/lib/python3.7/site-packages/pandas/compat/__init__.py:117: UserWarning: Could not import the lzma module. Your installed Python is incomplete. Attempting to use lzma compression will result in a RuntimeError.\n",
      "distributed.deploy.ssh - INFO - warnings.warn(msg)\n",
      "distributed.deploy.ssh - INFO - distributed.worker - INFO -       Start worker at:  tcp://145.100.59.27:42309\n",
      "distributed.deploy.ssh - INFO - /usr/local/lib/python3.7/site-packages/pandas/compat/__init__.py:117: UserWarning: Could not import the lzma module. Your installed Python is incomplete. Attempting to use lzma compression will result in a RuntimeError.\n",
      "distributed.deploy.ssh - INFO - warnings.warn(msg)\n",
      "distributed.deploy.ssh - INFO - distributed.worker - INFO -       Start worker at: tcp://145.100.59.123:35559\n",
      "distributed.deploy.ssh - INFO - /usr/local/lib/python3.7/site-packages/pandas/compat/__init__.py:117: UserWarning: Could not import the lzma module. Your installed Python is incomplete. Attempting to use lzma compression will result in a RuntimeError.\n",
      "distributed.deploy.ssh - INFO - warnings.warn(msg)\n",
      "distributed.deploy.ssh - INFO - distributed.worker - INFO -       Start worker at: tcp://145.100.59.187:44255\n",
      "distributed.deploy.ssh - INFO - /usr/local/lib/python3.7/site-packages/pandas/compat/__init__.py:117: UserWarning: Could not import the lzma module. Your installed Python is incomplete. Attempting to use lzma compression will result in a RuntimeError.\n",
      "distributed.deploy.ssh - INFO - warnings.warn(msg)\n",
      "distributed.deploy.ssh - INFO - distributed.worker - INFO -       Start worker at: tcp://145.100.59.197:37277\n",
      "distributed.deploy.ssh - INFO - /usr/local/lib/python3.7/site-packages/pandas/compat/__init__.py:117: UserWarning: Could not import the lzma module. Your installed Python is incomplete. Attempting to use lzma compression will result in a RuntimeError.\n",
      "distributed.deploy.ssh - INFO - warnings.warn(msg)\n",
      "distributed.deploy.ssh - INFO - distributed.worker - INFO -       Start worker at:  tcp://145.100.59.48:43057\n"
     ]
    },
    {
     "data": {
      "text/html": [
       "<div style='background-color: #f2f2f2; display: inline-block; padding: 10px; border: 1px solid #999999;'>\n",
       "  <h3>SSHCluster</h3>\n",
       "  <ul>\n",
       "    <li><b>Dashboard: </b><a href='/proxy/8787/status' target='_blank'>/proxy/8787/status</a>\n",
       "  </ul>\n",
       "</div>\n"
      ],
      "text/plain": [
       "SSHCluster('tcp://145.100.59.123:8786', workers=17, threads=17, memory=286.71 GB)"
      ]
     },
     "metadata": {},
     "output_type": "display_data"
    }
   ],
   "source": [
    "local_tmp = pathlib.Path('/data/local/tmp')\n",
    "\n",
    "nprocs_per_node = 2  \n",
    "\n",
    "# start the cluster\n",
    "scheduler_node = 'node1'\n",
    "hosts = [f'node{i}' for i in range(1, 11)]\n",
    "cluster = SSHCluster(hosts=[scheduler_node] + hosts, \n",
    "                     connect_options={'known_hosts': None, \n",
    "                                      'username': 'ubuntu', \n",
    "                                      'client_keys': '/home/ubuntu/.ssh/id_rsa'},\n",
    "                     worker_options={'nthreads': 1, \n",
    "                                     'nprocs': nprocs_per_node,\n",
    "                                     'memory_limit': 'auto',\n",
    "                                     'local_directory': local_tmp/'dask-worker-space'}, \n",
    "                     scheduler_options={'dashboard_address': '8787'})\n",
    "cluster"
   ]
  },
  {
   "cell_type": "markdown",
   "metadata": {},
   "source": [
    "## Normalization\n",
    "\n",
    "Normalize the point heights."
   ]
  },
  {
   "cell_type": "code",
   "execution_count": 7,
   "metadata": {},
   "outputs": [],
   "source": [
    "# setup input dictionary to configure the normalization pipeline\n",
    "normalization_input = {\n",
    "    'setup_local_fs': {'tmp_folder': local_tmp.as_posix()},\n",
    "    'pullremote': remote_path_input.as_posix(),\n",
    "    'load': {'attributes': 'all'},\n",
    "    'normalize': 1,\n",
    "    'clear_cache' : {},\n",
    "    'pushremote': remote_path_output.as_posix(),\n",
    "    'cleanlocalfs': {}\n",
    "}\n",
    "\n",
    "# write input dictionary to JSON file\n",
    "with open('normalize.json', 'w') as f:\n",
    "    json.dump(normalization_input, f)"
   ]
  },
  {
   "cell_type": "code",
   "execution_count": 8,
   "metadata": {},
   "outputs": [],
   "source": [
    "macro = MacroPipeline()\n",
    "\n",
    "# add pipeline list to macro-pipeline object and set the corresponding labels\n",
    "for tile in tiles:\n",
    "    dp = DataProcessing(tile, label=tile).setup_webdav_client(wd_opts)\n",
    "    normalization_input_ = copy.deepcopy(normalization_input)\n",
    "    normalization_input_['export_point_cloud'] = {'filename': '{}.laz'.format(tile)}\n",
    "    dp.config(normalization_input_)\n",
    "    macro.add_task(dp)\n",
    "\n",
    "macro.setup_cluster(cluster=cluster)\n",
    "\n",
    "# run!\n",
    "macro.run()\n",
    "\n",
    "# save outcome results and check that no error occurred before continuing\n",
    "macro.print_outcome(to_file='normalize.out')\n",
    "\n",
    "failed = macro.get_failed_pipelines()\n",
    "if failed:\n",
    "    with open('normalize_failed.json', 'w') as f:\n",
    "        json.dump([pip.label for pip in failed], f)\n",
    "    raise RuntimeError('Some of the pipelines have failed')"
   ]
  },
  {
   "cell_type": "markdown",
   "metadata": {},
   "source": [
    "## Terminate cluster"
   ]
  },
  {
   "cell_type": "code",
   "execution_count": 9,
   "metadata": {},
   "outputs": [],
   "source": [
    "macro.shutdown()"
   ]
  }
 ],
 "metadata": {
  "kernelspec": {
   "display_name": "Python 3",
   "language": "python",
   "name": "python3"
  },
  "language_info": {
   "codemirror_mode": {
    "name": "ipython",
    "version": 3
   },
   "file_extension": ".py",
   "mimetype": "text/x-python",
   "name": "python",
   "nbconvert_exporter": "python",
   "pygments_lexer": "ipython3",
   "version": "3.7.6"
  }
 },
 "nbformat": 4,
 "nbformat_minor": 4
}
