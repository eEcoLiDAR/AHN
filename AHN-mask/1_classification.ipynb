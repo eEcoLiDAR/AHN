{
 "cells": [
  {
   "cell_type": "code",
   "execution_count": 1,
   "metadata": {},
   "outputs": [],
   "source": [
    "import copy\n",
    "import fnmatch\n",
    "import json\n",
    "import getpass\n",
    "import os\n",
    "import pathlib\n",
    "import datetime\n",
    "                    \n",
    "from dask.distributed import LocalCluster, SSHCluster \n",
    "from laserfarm import Retiler, DataProcessing, GeotiffWriter, MacroPipeline, Classification\n",
    "from laserfarm.remote_utils import get_wdclient, get_info_remote, list_remote\n",
    "\n",
    "def last_modified(opts, remote_path):\n",
    "    info = get_info_remote(get_wdclient(opts), remote_path.as_posix())\n",
    "    format_ = '%a, %d %b %Y %H:%M:%S GMT'\n",
    "    return datetime.datetime.strptime(info['modified'], format_)"
   ]
  },
  {
   "cell_type": "markdown",
   "metadata": {},
   "source": [
    "# Macro-Pipeline Workflow - Classify Points Using Cadastre Data"
   ]
  },
  {
   "cell_type": "markdown",
   "metadata": {},
   "source": [
    "## Set Run-Specific Input\n",
    "\n",
    "Fill in the username/password for the SURF dCache. Choose whether you want to i) run all input files, ii) run the only input files listed in `filename`, or iii) run the input that was updated since the last workflow run."
   ]
  },
  {
   "cell_type": "code",
   "execution_count": 2,
   "metadata": {},
   "outputs": [],
   "source": [
    "remote_path_root = pathlib.Path('/pnfs/grid.sara.nl/data/projects.nl/eecolidar/01_Escience/')\n",
    "\n",
    "# dCache path to a set of targets\n",
    "remote_path_input = remote_path_root / 'ALS/Netherlands/ahn3_current/ahn3_current_TOP10NL_ud20200323_targets_all/point_density'\n",
    "\n",
    "# dCache path where to copy the classified targets\n",
    "remote_path_output = remote_path_root / 'ALS/Netherlands/ahn3_current/ahn3_current_TOP10NL_ud20200323_targets_classified' \n",
    "\n",
    "run = 'from_file' # 'all', 'updated', 'from_file'\n",
    "filename = 'classification_failed.json'  # if run is 'from_file', set name of file with input file names\n",
    "assert run in ['all', 'updated', 'from_file']"
   ]
  },
  {
   "cell_type": "code",
   "execution_count": 3,
   "metadata": {},
   "outputs": [
    {
     "name": "stdin",
     "output_type": "stream",
     "text": [
      "WebDAV username:  fnattin4\n",
      "WebDAV password:  ············\n"
     ]
    }
   ],
   "source": [
    "webdav_login = input('WebDAV username: ')\n",
    "webdav_password = getpass.getpass('WebDAV password: ')\n",
    "if run == 'updated':\n",
    "    last_run = datetime.datetime.strptime(input('Date last run (YYYY-MM-DD): '), '%Y-%m-%d')"
   ]
  },
  {
   "cell_type": "markdown",
   "metadata": {},
   "source": [
    "## Check Connection to Remote Storage"
   ]
  },
  {
   "cell_type": "code",
   "execution_count": 4,
   "metadata": {},
   "outputs": [],
   "source": [
    "wd_opts = {\n",
    "    'webdav_hostname': 'https://webdav.grid.surfsara.nl:2880',\n",
    "    'webdav_login': webdav_login,\n",
    "    'webdav_password': webdav_password,\n",
    "    'webdav_timeout': 200\n",
    "}\n",
    "assert get_wdclient(wd_opts).check(remote_path_root.as_posix())"
   ]
  },
  {
   "cell_type": "code",
   "execution_count": 5,
   "metadata": {},
   "outputs": [
    {
     "name": "stdout",
     "output_type": "stream",
     "text": [
      "Found: 37457 tiles\n",
      "Retrieve and classify: 1 tiles\n"
     ]
    }
   ],
   "source": [
    "tiles = [t for t in list_remote(get_wdclient(wd_opts), remote_path_input.as_posix())\n",
    "         if fnmatch.fnmatch(t, 'tile_*_*.ply')]\n",
    "print('Found: {} tiles'.format(len(tiles)))\n",
    "if run == 'updated':\n",
    "    # determine which tiles have been updated since last run\n",
    "    tiles = [t for t in tiles if last_modified(wd_opts, remote_path_input/t) > last_run]\n",
    "elif run == 'from_file':\n",
    "    with open(filename, 'r') as f:\n",
    "        tiles_read = json.load(f)\n",
    "    # check whether all files are available on dCache\n",
    "    assert all([t in tiles for t in tiles_read]), f'Some of the files in {filename} are not in remote dir'\n",
    "    tiles = tiles_read\n",
    "print('Retrieve and classify: {} tiles'.format(len(tiles)))"
   ]
  },
  {
   "cell_type": "markdown",
   "metadata": {},
   "source": [
    "## Setup Cluster\n",
    "\n",
    "Setup Dask cluster used for all the macro-pipeline calculations."
   ]
  },
  {
   "cell_type": "code",
   "execution_count": 6,
   "metadata": {},
   "outputs": [
    {
     "data": {
      "text/html": [
       "<table style=\"border: 2px solid white;\">\n",
       "<tr>\n",
       "<td style=\"vertical-align: top; border: 0px solid white\">\n",
       "<h3 style=\"text-align: left;\">Client</h3>\n",
       "<ul style=\"text-align: left; list-style: none; margin: 0; padding: 0;\">\n",
       "  <li><b>Scheduler: </b>tcp://node1:8786</li>\n",
       "  <li><b>Dashboard: </b><a href='/proxy/8787/status' target='_blank'>/proxy/8787/status</a></li>\n",
       "</ul>\n",
       "</td>\n",
       "<td style=\"vertical-align: top; border: 0px solid white\">\n",
       "<h3 style=\"text-align: left;\">Cluster</h3>\n",
       "<ul style=\"text-align: left; list-style:none; margin: 0; padding: 0;\">\n",
       "  <li><b>Workers: </b>20</li>\n",
       "  <li><b>Cores: </b>20</li>\n",
       "  <li><b>Memory: </b>337.31 GB</li>\n",
       "</ul>\n",
       "</td>\n",
       "</tr>\n",
       "</table>"
      ],
      "text/plain": [
       "<Client: 'tcp://145.100.59.123:8786' processes=20 threads=20, memory=337.31 GB>"
      ]
     },
     "execution_count": 6,
     "metadata": {},
     "output_type": "execute_result"
    }
   ],
   "source": [
    "# Connect to custom client\n",
    "from dask.distributed import Client\n",
    "local_tmp = pathlib.Path('/data/local/tmp')\n",
    "client = Client('node1:8786')\n",
    "client"
   ]
  },
  {
   "cell_type": "code",
   "execution_count": null,
   "metadata": {},
   "outputs": [],
   "source": [
    "# local_tmp = pathlib.Path('/data/local/tmp')\n",
    "\n",
    "# nprocs_per_node = 2  \n",
    "\n",
    "# # start the cluster\n",
    "# scheduler_node = 'node1'\n",
    "\n",
    "# hosts = [f'node{i}' for i in range(1, 11)]\n",
    "# cluster = SSHCluster(hosts=[scheduler_node] + hosts, \n",
    "#                      connect_options={'known_hosts': None, \n",
    "#                                       'username': 'ubuntu', \n",
    "#                                       'client_keys': '/home/ubuntu/.ssh/id_rsa'},\n",
    "#                      worker_options={'nthreads': 1, \n",
    "#                                      'nprocs': nprocs_per_node,\n",
    "#                                      'memory_limit': 0,\n",
    "#                                      'local_directory': local_tmp/'dask-worker-space'}, \n",
    "#                      scheduler_options={'dashboard_address': '8787'})\n",
    "# cluster"
   ]
  },
  {
   "cell_type": "markdown",
   "metadata": {},
   "source": [
    "## Classify Target Points\n",
    "\n",
    "Classify the target points according to the ground type, using Cadastre data."
   ]
  },
  {
   "cell_type": "code",
   "execution_count": 7,
   "metadata": {},
   "outputs": [],
   "source": [
    "# path where the shapefiles extracted from the cadastre data are available\n",
    "shp_dir = '/data/local/home/eecolidar_webdav/01_Escience/TOP10NL_GML_50d_Blokken_september_2018/TOP10NL_50d_Blokken_september_2018_shapefiles'\n",
    "\n",
    "# setup input dictionary to configure the classification pipeline\n",
    "# NOTE: for the classification we have mounted the dCache storage with rclone to access shp files\n",
    "classification_input = {\n",
    "    'setup_local_fs': {'tmp_folder': local_tmp.as_posix()},\n",
    "    'pullremote': remote_path_input.as_posix(),\n",
    "    'locate_shp': {'shp_dir': shp_dir},\n",
    "    'classification': {'ground_type': 1},\n",
    "    'export_point_cloud': {},\n",
    "    'pushremote': remote_path_output.as_posix(),\n",
    "    'cleanlocalfs': {}\n",
    "}\n",
    "\n",
    "# write input dictionary to JSON file\n",
    "with open('classification.json', 'w') as f:\n",
    "    json.dump(classification_input, f)"
   ]
  },
  {
   "cell_type": "code",
   "execution_count": 8,
   "metadata": {},
   "outputs": [],
   "source": [
    "macro = MacroPipeline()\n",
    "\n",
    "# add pipeline list to macro-pipeline object and set the corresponding labels\n",
    "macro.tasks = [Classification(t).config(classification_input).setup_webdav_client(wd_opts) \n",
    "               for t in tiles]\n",
    "macro.set_labels([os.path.splitext(tile)[0] for tile in tiles])\n",
    "\n",
    "#macro.setup_cluster(cluster=cluster)\n",
    "macro.client = client\n",
    "\n",
    "# run!\n",
    "macro.run()\n",
    "\n",
    "# save outcome results and write name of failed pipelines to file\n",
    "macro.print_outcome(to_file='classification.out')\n",
    "failed = macro.get_failed_pipelines()\n",
    "if failed:\n",
    "    with open('classification_failed.json', 'w') as f:\n",
    "        json.dump(['.'.join([pip.label, 'ply']) for pip in failed], f)\n",
    "    raise RuntimeError('Some of the pipelines have failed')"
   ]
  },
  {
   "cell_type": "code",
   "execution_count": null,
   "metadata": {},
   "outputs": [],
   "source": [
    "from dask.distributed import Client, Future\n",
    "client = Client('tcp://145.100.59.123:8786')\n",
    "futures = [Future(key) for key in client.who_has().keys()]\n",
    "client.cancel(futures)"
   ]
  },
  {
   "cell_type": "markdown",
   "metadata": {},
   "source": [
    "## Terminate cluster"
   ]
  },
  {
   "cell_type": "code",
   "execution_count": null,
   "metadata": {
    "scrolled": true
   },
   "outputs": [],
   "source": [
    "# macro.shutdown()"
   ]
  },
  {
   "cell_type": "code",
   "execution_count": 9,
   "metadata": {},
   "outputs": [],
   "source": [
    "macro.client.close()"
   ]
  }
 ],
 "metadata": {
  "kernelspec": {
   "display_name": "Python 3",
   "language": "python",
   "name": "python3"
  },
  "language_info": {
   "codemirror_mode": {
    "name": "ipython",
    "version": 3
   },
   "file_extension": ".py",
   "mimetype": "text/x-python",
   "name": "python",
   "nbconvert_exporter": "python",
   "pygments_lexer": "ipython3",
   "version": "3.7.6"
  }
 },
 "nbformat": 4,
 "nbformat_minor": 4
}
